{
 "cells": [
  {
   "cell_type": "markdown",
   "id": "4d596ac4",
   "metadata": {},
   "source": [
    "# Loan Default Prediction - Modeling\n",
    "\n",
    "For the Modeling we want to showcase the following machine learning tools:\n",
    "\n",
    "<b>Keras/TensorFlow:</b> Keras is user-friendly and works well for deep learning. Our dataset is large enough and slightly complex, a neural network might capture the underlying patterns well. We will start with a simple feedforward neural network and gradually increase complexity if needed.\n",
    "\n",
    "\n",
    "<b>PyTorch:</b> If possible we may look into Pytorch as it's great for custom model architectures and provides us with flexibility. This is a bit more challenging than than Keras but it is powerful. We begin with a basic architecture and explore more complex layers and structures if needed. \n",
    "\n",
    "At the end we will compare the two. \n"
   ]
  },
  {
   "cell_type": "markdown",
   "id": "d57d6023",
   "metadata": {},
   "source": [
    "#### Imports"
   ]
  },
  {
   "cell_type": "code",
   "execution_count": 2,
   "id": "84202912",
   "metadata": {},
   "outputs": [],
   "source": [
    "import numpy as np\n",
    "import pandas as pd\n",
    "import matplotlib.pyplot as plt\n",
    "import seaborn as sns\n",
    "from sklearn.model_selection import train_test_split\n",
    "from sklearn.utils.class_weight import compute_class_weight\n",
    "from imblearn.over_sampling import SMOTE\n",
    "\n",
    "import tensorflow as tf\n",
    "from tensorflow.keras.models import Sequential\n",
    "from tensorflow.keras.layers import Dense\n",
    "from sklearn.metrics import roc_auc_score, classification_report, confusion_matrix\n",
    "\n"
   ]
  },
  {
   "cell_type": "code",
   "execution_count": 3,
   "id": "bb8b6311",
   "metadata": {},
   "outputs": [
    {
     "data": {
      "text/html": [
       "<div>\n",
       "<style scoped>\n",
       "    .dataframe tbody tr th:only-of-type {\n",
       "        vertical-align: middle;\n",
       "    }\n",
       "\n",
       "    .dataframe tbody tr th {\n",
       "        vertical-align: top;\n",
       "    }\n",
       "\n",
       "    .dataframe thead th {\n",
       "        text-align: right;\n",
       "    }\n",
       "</style>\n",
       "<table border=\"1\" class=\"dataframe\">\n",
       "  <thead>\n",
       "    <tr style=\"text-align: right;\">\n",
       "      <th></th>\n",
       "      <th>Income</th>\n",
       "      <th>LoanAmount</th>\n",
       "      <th>CreditScore</th>\n",
       "      <th>MonthsEmployed</th>\n",
       "      <th>NumCreditLines</th>\n",
       "      <th>InterestRate</th>\n",
       "      <th>LoanTerm</th>\n",
       "      <th>DTIRatio</th>\n",
       "      <th>Education</th>\n",
       "      <th>EmploymentType</th>\n",
       "      <th>MaritalStatus</th>\n",
       "      <th>HasMortgage</th>\n",
       "      <th>HasDependents</th>\n",
       "      <th>LoanPurpose</th>\n",
       "      <th>HasCoSigner</th>\n",
       "      <th>Default</th>\n",
       "    </tr>\n",
       "    <tr>\n",
       "      <th>Age</th>\n",
       "      <th></th>\n",
       "      <th></th>\n",
       "      <th></th>\n",
       "      <th></th>\n",
       "      <th></th>\n",
       "      <th></th>\n",
       "      <th></th>\n",
       "      <th></th>\n",
       "      <th></th>\n",
       "      <th></th>\n",
       "      <th></th>\n",
       "      <th></th>\n",
       "      <th></th>\n",
       "      <th></th>\n",
       "      <th></th>\n",
       "      <th></th>\n",
       "    </tr>\n",
       "  </thead>\n",
       "  <tbody>\n",
       "    <tr>\n",
       "      <th>56</th>\n",
       "      <td>85994</td>\n",
       "      <td>50587</td>\n",
       "      <td>520</td>\n",
       "      <td>80</td>\n",
       "      <td>4</td>\n",
       "      <td>15.23</td>\n",
       "      <td>36</td>\n",
       "      <td>0.44</td>\n",
       "      <td>0</td>\n",
       "      <td>0</td>\n",
       "      <td>0</td>\n",
       "      <td>1</td>\n",
       "      <td>1</td>\n",
       "      <td>4</td>\n",
       "      <td>1</td>\n",
       "      <td>0</td>\n",
       "    </tr>\n",
       "    <tr>\n",
       "      <th>69</th>\n",
       "      <td>50432</td>\n",
       "      <td>124440</td>\n",
       "      <td>458</td>\n",
       "      <td>15</td>\n",
       "      <td>1</td>\n",
       "      <td>4.81</td>\n",
       "      <td>60</td>\n",
       "      <td>0.68</td>\n",
       "      <td>2</td>\n",
       "      <td>0</td>\n",
       "      <td>1</td>\n",
       "      <td>0</td>\n",
       "      <td>0</td>\n",
       "      <td>4</td>\n",
       "      <td>1</td>\n",
       "      <td>0</td>\n",
       "    </tr>\n",
       "    <tr>\n",
       "      <th>46</th>\n",
       "      <td>84208</td>\n",
       "      <td>129188</td>\n",
       "      <td>451</td>\n",
       "      <td>26</td>\n",
       "      <td>3</td>\n",
       "      <td>21.17</td>\n",
       "      <td>24</td>\n",
       "      <td>0.31</td>\n",
       "      <td>2</td>\n",
       "      <td>3</td>\n",
       "      <td>0</td>\n",
       "      <td>1</td>\n",
       "      <td>1</td>\n",
       "      <td>0</td>\n",
       "      <td>0</td>\n",
       "      <td>1</td>\n",
       "    </tr>\n",
       "    <tr>\n",
       "      <th>32</th>\n",
       "      <td>31713</td>\n",
       "      <td>44799</td>\n",
       "      <td>743</td>\n",
       "      <td>0</td>\n",
       "      <td>3</td>\n",
       "      <td>7.07</td>\n",
       "      <td>24</td>\n",
       "      <td>0.23</td>\n",
       "      <td>1</td>\n",
       "      <td>0</td>\n",
       "      <td>1</td>\n",
       "      <td>0</td>\n",
       "      <td>0</td>\n",
       "      <td>1</td>\n",
       "      <td>0</td>\n",
       "      <td>0</td>\n",
       "    </tr>\n",
       "    <tr>\n",
       "      <th>60</th>\n",
       "      <td>20437</td>\n",
       "      <td>9139</td>\n",
       "      <td>633</td>\n",
       "      <td>8</td>\n",
       "      <td>4</td>\n",
       "      <td>6.51</td>\n",
       "      <td>48</td>\n",
       "      <td>0.73</td>\n",
       "      <td>0</td>\n",
       "      <td>3</td>\n",
       "      <td>0</td>\n",
       "      <td>0</td>\n",
       "      <td>1</td>\n",
       "      <td>0</td>\n",
       "      <td>0</td>\n",
       "      <td>0</td>\n",
       "    </tr>\n",
       "  </tbody>\n",
       "</table>\n",
       "</div>"
      ],
      "text/plain": [
       "     Income  LoanAmount  CreditScore  MonthsEmployed  NumCreditLines  \\\n",
       "Age                                                                    \n",
       "56    85994       50587          520              80               4   \n",
       "69    50432      124440          458              15               1   \n",
       "46    84208      129188          451              26               3   \n",
       "32    31713       44799          743               0               3   \n",
       "60    20437        9139          633               8               4   \n",
       "\n",
       "     InterestRate  LoanTerm  DTIRatio  Education  EmploymentType  \\\n",
       "Age                                                                \n",
       "56          15.23        36      0.44          0               0   \n",
       "69           4.81        60      0.68          2               0   \n",
       "46          21.17        24      0.31          2               3   \n",
       "32           7.07        24      0.23          1               0   \n",
       "60           6.51        48      0.73          0               3   \n",
       "\n",
       "     MaritalStatus  HasMortgage  HasDependents  LoanPurpose  HasCoSigner  \\\n",
       "Age                                                                        \n",
       "56               0            1              1            4            1   \n",
       "69               1            0              0            4            1   \n",
       "46               0            1              1            0            0   \n",
       "32               1            0              0            1            0   \n",
       "60               0            0              1            0            0   \n",
       "\n",
       "     Default  \n",
       "Age           \n",
       "56         0  \n",
       "69         0  \n",
       "46         1  \n",
       "32         0  \n",
       "60         0  "
      ]
     },
     "execution_count": 3,
     "metadata": {},
     "output_type": "execute_result"
    }
   ],
   "source": [
    "df = pd.read_csv(\"../data/loan_data_cleaned.csv\", index_col=0)\n",
    "\n",
    "df.head()"
   ]
  },
  {
   "cell_type": "markdown",
   "id": "19af7710",
   "metadata": {},
   "source": [
    "### Train-Test Split"
   ]
  },
  {
   "cell_type": "code",
   "execution_count": 4,
   "id": "472238bd",
   "metadata": {},
   "outputs": [],
   "source": [
    "# we are doing an 80/20 split\n",
    "\n",
    "X = df.drop('Default', axis=1)  \n",
    "y = df['Default']  \n",
    "\n",
    "X_train, X_test, y_train, y_test = train_test_split(X, y, test_size=0.2, random_state=99)"
   ]
  },
  {
   "cell_type": "markdown",
   "id": "dfa85e01",
   "metadata": {},
   "source": [
    "## Neural Network with Keras/TensorFlow\n",
    "We'll start by building a simple feedforward neural network (multilayer perceptron) for classification.\n",
    "\n",
    "For our model we will have an input layer, two hidden layers (64 and 32 units), and an output layer. We will use ReLU for hidden layers and Sigmoid for the output layer since it’s a binary classification problem.\n",
    "\n",
    "We will train the model with 10 epochs and adjust depending on the performance. (How many times the model will go through the training set)\n",
    "\n",
    "Note:\n",
    "Batch controls how many samples are processed before the model’s internal parameters are updated.\n",
    "validation_split=0.2: This will use 20% of the training data for validation during training, which helps monitor the model's performance on unseen data."
   ]
  },
  {
   "cell_type": "code",
   "execution_count": 5,
   "id": "5ef4d461",
   "metadata": {},
   "outputs": [
    {
     "name": "stdout",
     "output_type": "stream",
     "text": [
      "Epoch 1/10\n",
      "5107/5107 [==============================] - 12s 2ms/step - loss: 51.6466 - accuracy: 0.8022 - val_loss: 4.5954 - val_accuracy: 0.8844\n",
      "Epoch 2/10\n",
      "5107/5107 [==============================] - 11s 2ms/step - loss: 2.8266 - accuracy: 0.8455 - val_loss: 0.3581 - val_accuracy: 0.8845\n",
      "Epoch 3/10\n",
      "5107/5107 [==============================] - 10s 2ms/step - loss: 0.3604 - accuracy: 0.8835 - val_loss: 0.3579 - val_accuracy: 0.8845\n",
      "Epoch 4/10\n",
      "5107/5107 [==============================] - 10s 2ms/step - loss: 0.3598 - accuracy: 0.8836 - val_loss: 0.3582 - val_accuracy: 0.8845\n",
      "Epoch 5/10\n",
      "5107/5107 [==============================] - 10s 2ms/step - loss: 0.3599 - accuracy: 0.8836 - val_loss: 0.3581 - val_accuracy: 0.8845\n",
      "Epoch 6/10\n",
      "5107/5107 [==============================] - 10s 2ms/step - loss: 0.3599 - accuracy: 0.8836 - val_loss: 0.3579 - val_accuracy: 0.8845\n",
      "Epoch 7/10\n",
      "5107/5107 [==============================] - 11s 2ms/step - loss: 0.3599 - accuracy: 0.8836 - val_loss: 0.3579 - val_accuracy: 0.8845\n",
      "Epoch 8/10\n",
      "5107/5107 [==============================] - 10s 2ms/step - loss: 0.3599 - accuracy: 0.8836 - val_loss: 0.3580 - val_accuracy: 0.8845\n",
      "Epoch 9/10\n",
      "5107/5107 [==============================] - 11s 2ms/step - loss: 0.3599 - accuracy: 0.8836 - val_loss: 0.3580 - val_accuracy: 0.8845\n",
      "Epoch 10/10\n",
      "5107/5107 [==============================] - 11s 2ms/step - loss: 0.3599 - accuracy: 0.8836 - val_loss: 0.3579 - val_accuracy: 0.8845\n",
      "1596/1596 [==============================] - 3s 2ms/step\n",
      "AUC-ROC Score: 0.5\n"
     ]
    }
   ],
   "source": [
    "\n",
    "model = Sequential()\n",
    "\n",
    "\n",
    "model.add(Dense(64, input_dim=X_train.shape[1], activation='relu'))  \n",
    "\n",
    "model.add(Dense(32, activation='relu'))\n",
    "model.add(Dense(16, activation='relu'))\n",
    "\n",
    "model.add(Dense(1, activation='sigmoid'))\n",
    "\n",
    "model.compile(optimizer='adam', loss='binary_crossentropy', metrics=['accuracy'])\n",
    "\n",
    "history = model.fit(X_train, y_train, validation_split=0.2, epochs=10, batch_size=32)\n",
    "\n",
    "\n",
    "y_pred_prob = model.predict(X_test)\n",
    "y_pred_class = (y_pred_prob > 0.5).astype(\"int32\")\n",
    "\n",
    "# Evaluate the model\n",
    "auc = roc_auc_score(y_test, y_pred_prob)\n",
    "print(f\"AUC-ROC Score: {auc}\")\n"
   ]
  },
  {
   "cell_type": "markdown",
   "id": "835fe80c",
   "metadata": {},
   "source": [
    "#### Keras/TensorFlow Evaluation\n",
    "\n"
   ]
  },
  {
   "cell_type": "code",
   "execution_count": 6,
   "id": "006597ff",
   "metadata": {
    "scrolled": false
   },
   "outputs": [
    {
     "name": "stdout",
     "output_type": "stream",
     "text": [
      "AUC-ROC Score: 0.5\n",
      "Classification Report:\n",
      "               precision    recall  f1-score   support\n",
      "\n",
      "           0       0.88      1.00      0.94     45167\n",
      "           1       0.00      0.00      0.00      5903\n",
      "\n",
      "    accuracy                           0.88     51070\n",
      "   macro avg       0.44      0.50      0.47     51070\n",
      "weighted avg       0.78      0.88      0.83     51070\n",
      "\n",
      "Confusion Matrix:\n",
      " [[45167     0]\n",
      " [ 5903     0]]\n"
     ]
    },
    {
     "name": "stderr",
     "output_type": "stream",
     "text": [
      "C:\\Users\\darde\\anaconda3\\Lib\\site-packages\\sklearn\\metrics\\_classification.py:1344: UndefinedMetricWarning: Precision and F-score are ill-defined and being set to 0.0 in labels with no predicted samples. Use `zero_division` parameter to control this behavior.\n",
      "  _warn_prf(average, modifier, msg_start, len(result))\n",
      "C:\\Users\\darde\\anaconda3\\Lib\\site-packages\\sklearn\\metrics\\_classification.py:1344: UndefinedMetricWarning: Precision and F-score are ill-defined and being set to 0.0 in labels with no predicted samples. Use `zero_division` parameter to control this behavior.\n",
      "  _warn_prf(average, modifier, msg_start, len(result))\n",
      "C:\\Users\\darde\\anaconda3\\Lib\\site-packages\\sklearn\\metrics\\_classification.py:1344: UndefinedMetricWarning: Precision and F-score are ill-defined and being set to 0.0 in labels with no predicted samples. Use `zero_division` parameter to control this behavior.\n",
      "  _warn_prf(average, modifier, msg_start, len(result))\n"
     ]
    }
   ],
   "source": [
    "\n",
    "auc = roc_auc_score(y_test, y_pred_prob)\n",
    "print(f\"AUC-ROC Score: {auc}\")\n",
    "\n",
    "print(\"Classification Report:\\n\", classification_report(y_test, y_pred_class))\n",
    "\n",
    "print(\"Confusion Matrix:\\n\", confusion_matrix(y_test, y_pred_class))"
   ]
  },
  {
   "cell_type": "markdown",
   "id": "c4b89233",
   "metadata": {},
   "source": [
    "##### Observation\n",
    "This shows that the model is performing poorly since it isn't distinguishing between defaults and non-defaults effectively.\n",
    "\n",
    "\n",
    "This is because the model is biased towards the majority class (class 0)which is because are many more non-defaults than defaults. So in this case, the model learned to predict non-defaults every time, which leads to high accuracy but poor recall for the default cases.\n",
    "\n",
    "To fix this we will using class weights, where we assign more weight to the minority class to encourage the model to pay more attention to it."
   ]
  },
  {
   "cell_type": "markdown",
   "id": "41f0a741",
   "metadata": {},
   "source": [
    "### Weight Classes"
   ]
  },
  {
   "cell_type": "code",
   "execution_count": 7,
   "id": "576201f1",
   "metadata": {},
   "outputs": [
    {
     "name": "stdout",
     "output_type": "stream",
     "text": [
      "Class Weights:  {0: 0.5657796340713578, 1: 4.300568421052631}\n"
     ]
    }
   ],
   "source": [
    "class_weights = compute_class_weight('balanced', classes=np.array([0, 1]), y=y_train)\n",
    "class_weights_dict = {0: class_weights[0], 1: class_weights[1]}\n",
    "\n",
    "print(\"Class Weights: \", class_weights_dict)"
   ]
  },
  {
   "cell_type": "markdown",
   "id": "b1e4e353",
   "metadata": {},
   "source": [
    "Before making predictions on the test set, we are going to evaluate the model on the test set"
   ]
  },
  {
   "cell_type": "code",
   "execution_count": 8,
   "id": "6bc5d575",
   "metadata": {},
   "outputs": [
    {
     "name": "stdout",
     "output_type": "stream",
     "text": [
      "Epoch 1/10\n",
      "5107/5107 [==============================] - 12s 2ms/step - loss: 0.6982 - accuracy: 0.4844 - val_loss: 0.6927 - val_accuracy: 0.8845\n",
      "Epoch 2/10\n",
      "5107/5107 [==============================] - 10s 2ms/step - loss: 0.6939 - accuracy: 0.5017 - val_loss: 0.6839 - val_accuracy: 0.8845\n",
      "Epoch 3/10\n",
      "5107/5107 [==============================] - 11s 2ms/step - loss: 0.6938 - accuracy: 0.4871 - val_loss: 0.7039 - val_accuracy: 0.1155\n",
      "Epoch 4/10\n",
      "5107/5107 [==============================] - 10s 2ms/step - loss: 0.6938 - accuracy: 0.4868 - val_loss: 0.7050 - val_accuracy: 0.1155\n",
      "Epoch 5/10\n",
      "5107/5107 [==============================] - 11s 2ms/step - loss: 0.6938 - accuracy: 0.4380 - val_loss: 0.6761 - val_accuracy: 0.8845\n",
      "Epoch 6/10\n",
      "5107/5107 [==============================] - 12s 2ms/step - loss: 0.6938 - accuracy: 0.5142 - val_loss: 0.7000 - val_accuracy: 0.1155\n",
      "Epoch 7/10\n",
      "5107/5107 [==============================] - 11s 2ms/step - loss: 0.6937 - accuracy: 0.4826 - val_loss: 0.7110 - val_accuracy: 0.1155\n",
      "Epoch 8/10\n",
      "5107/5107 [==============================] - 10s 2ms/step - loss: 0.6938 - accuracy: 0.4949 - val_loss: 0.7118 - val_accuracy: 0.1155\n",
      "Epoch 9/10\n",
      "5107/5107 [==============================] - 10s 2ms/step - loss: 0.6938 - accuracy: 0.4898 - val_loss: 0.7024 - val_accuracy: 0.1155\n",
      "Epoch 10/10\n",
      "5107/5107 [==============================] - 10s 2ms/step - loss: 0.6938 - accuracy: 0.4737 - val_loss: 0.7043 - val_accuracy: 0.1155\n",
      "1596/1596 [==============================] - 2s 1ms/step - loss: 0.7043 - accuracy: 0.1156\n",
      "Test Loss: 0.7043214440345764\n",
      "Test Accuracy: 0.11558645218610764\n"
     ]
    }
   ],
   "source": [
    "history = model.fit(X_train, y_train, validation_split=0.2, epochs=10, batch_size=32, class_weight=class_weights_dict)\n",
    "loss, accuracy = model.evaluate(X_test, y_test)\n",
    "print(f\"Test Loss: {loss}\")\n",
    "print(f\"Test Accuracy: {accuracy}\")"
   ]
  },
  {
   "cell_type": "code",
   "execution_count": 9,
   "id": "4d88c3f8",
   "metadata": {},
   "outputs": [
    {
     "name": "stdout",
     "output_type": "stream",
     "text": [
      "1596/1596 [==============================] - 2s 1ms/step\n",
      "AUC-ROC Score: 0.5\n",
      "Classification Report:\n",
      "               precision    recall  f1-score   support\n",
      "\n",
      "           0       0.00      0.00      0.00     45167\n",
      "           1       0.12      1.00      0.21      5903\n",
      "\n",
      "    accuracy                           0.12     51070\n",
      "   macro avg       0.06      0.50      0.10     51070\n",
      "weighted avg       0.01      0.12      0.02     51070\n",
      "\n",
      "Confusion Matrix:\n",
      " [[    0 45167]\n",
      " [    0  5903]]\n"
     ]
    },
    {
     "name": "stderr",
     "output_type": "stream",
     "text": [
      "C:\\Users\\darde\\anaconda3\\Lib\\site-packages\\sklearn\\metrics\\_classification.py:1344: UndefinedMetricWarning: Precision and F-score are ill-defined and being set to 0.0 in labels with no predicted samples. Use `zero_division` parameter to control this behavior.\n",
      "  _warn_prf(average, modifier, msg_start, len(result))\n",
      "C:\\Users\\darde\\anaconda3\\Lib\\site-packages\\sklearn\\metrics\\_classification.py:1344: UndefinedMetricWarning: Precision and F-score are ill-defined and being set to 0.0 in labels with no predicted samples. Use `zero_division` parameter to control this behavior.\n",
      "  _warn_prf(average, modifier, msg_start, len(result))\n",
      "C:\\Users\\darde\\anaconda3\\Lib\\site-packages\\sklearn\\metrics\\_classification.py:1344: UndefinedMetricWarning: Precision and F-score are ill-defined and being set to 0.0 in labels with no predicted samples. Use `zero_division` parameter to control this behavior.\n",
      "  _warn_prf(average, modifier, msg_start, len(result))\n"
     ]
    }
   ],
   "source": [
    "# Prediction\n",
    "y_pred_prob = model.predict(X_test)\n",
    "y_pred_class = (y_pred_prob > 0.5).astype(\"int32\")\n",
    "\n",
    "#Evaluation\n",
    "auc = roc_auc_score(y_test, y_pred_prob)\n",
    "print(f\"AUC-ROC Score: {auc}\")\n",
    "print(\"Classification Report:\\n\", classification_report(y_test, y_pred_class))\n",
    "print(\"Confusion Matrix:\\n\", confusion_matrix(y_test, y_pred_class))"
   ]
  },
  {
   "cell_type": "markdown",
   "id": "86302ec7",
   "metadata": {},
   "source": [
    "#### Observation\n",
    "It looks like the class weights did not improve the model. The model is no better than random guessing\n",
    "\n",
    "AUC-ROC Score: 0.5\n",
    "Recall and Precision for Class 1 (defaults) are still 0:\n",
    "Confusion Matrix: All instances are classified as non-defaults.\n",
    "\n",
    "<b>Possible Reasons:</b>\n",
    "SThe class imbalance might still be too strong, and even with class weights, the model struggles to predict defaults.\n",
    "\n",
    "Our  architecture may not be well-suited for this problem.\n",
    "\n",
    "Or our features might not be sufficient enough for the model.\n",
    "\n",
    "<b>Next Steps</b>\n",
    "We could look into increasing the class weights. \n",
    "Consider using SMOTE\n",
    "Add more layers or neurons\n",
    "Use Ensemble model such as XGBoost or Random Forest\n",
    "Lower the threshold for classifying defaults (try 0.3 instead of 0.5)"
   ]
  },
  {
   "cell_type": "markdown",
   "id": "30d1cfd1",
   "metadata": {},
   "source": [
    "### SMOTE \n",
    "We will try SMOTE (Synthetic Minority Over-sampling Technique), hopefully this could help balance the dataset better than class weights."
   ]
  },
  {
   "cell_type": "code",
   "execution_count": 10,
   "id": "b2070df1",
   "metadata": {},
   "outputs": [
    {
     "name": "stdout",
     "output_type": "stream",
     "text": [
      "Epoch 1/10\n",
      "9027/9027 [==============================] - 22s 2ms/step - loss: 0.6619 - accuracy: 0.6246 - val_loss: 0.9703 - val_accuracy: 0.0000e+00\n",
      "Epoch 2/10\n",
      "9027/9027 [==============================] - 22s 2ms/step - loss: 0.6616 - accuracy: 0.6250 - val_loss: 0.9823 - val_accuracy: 0.0000e+00\n",
      "Epoch 3/10\n",
      "9027/9027 [==============================] - 17s 2ms/step - loss: 0.6616 - accuracy: 0.6250 - val_loss: 0.9881 - val_accuracy: 0.0000e+00\n",
      "Epoch 4/10\n",
      "9027/9027 [==============================] - 18s 2ms/step - loss: 0.6617 - accuracy: 0.6250 - val_loss: 1.0024 - val_accuracy: 0.0000e+00\n",
      "Epoch 5/10\n",
      "9027/9027 [==============================] - 18s 2ms/step - loss: 0.6617 - accuracy: 0.6250 - val_loss: 0.9992 - val_accuracy: 0.0000e+00\n",
      "Epoch 6/10\n",
      "9027/9027 [==============================] - 19s 2ms/step - loss: 0.6616 - accuracy: 0.6250 - val_loss: 0.9875 - val_accuracy: 0.0000e+00\n",
      "Epoch 7/10\n",
      "9027/9027 [==============================] - 19s 2ms/step - loss: 0.6616 - accuracy: 0.6250 - val_loss: 0.9765 - val_accuracy: 0.0000e+00\n",
      "Epoch 8/10\n",
      "9027/9027 [==============================] - 19s 2ms/step - loss: 0.6616 - accuracy: 0.6250 - val_loss: 0.9601 - val_accuracy: 0.0000e+00\n",
      "Epoch 9/10\n",
      "9027/9027 [==============================] - 18s 2ms/step - loss: 0.6616 - accuracy: 0.6250 - val_loss: 1.0086 - val_accuracy: 0.0000e+00\n",
      "Epoch 10/10\n",
      "9027/9027 [==============================] - 20s 2ms/step - loss: 0.6616 - accuracy: 0.6250 - val_loss: 0.9910 - val_accuracy: 0.0000e+00\n"
     ]
    }
   ],
   "source": [
    "smote = SMOTE(random_state=42)\n",
    "X_train_resampled, y_train_resampled = smote.fit_resample(X_train, y_train)\n",
    "\n",
    "history = model.fit(X_train_resampled, y_train_resampled, validation_split=0.2, epochs=10, batch_size=32)\n"
   ]
  },
  {
   "cell_type": "code",
   "execution_count": 11,
   "id": "4b6eb06c",
   "metadata": {},
   "outputs": [
    {
     "name": "stdout",
     "output_type": "stream",
     "text": [
      "1596/1596 [==============================] - 2s 1ms/step - loss: 0.5249 - accuracy: 0.8844\n",
      "Test Loss: 0.5248675346374512\n",
      "Test Accuracy: 0.8844135403633118\n"
     ]
    }
   ],
   "source": [
    "#Evalute the model on the test set\n",
    "loss, accuracy = model.evaluate(X_test, y_test)\n",
    "print(f\"Test Loss: {loss}\")\n",
    "print(f\"Test Accuracy: {accuracy}\")"
   ]
  },
  {
   "cell_type": "code",
   "execution_count": 14,
   "id": "a5bc95ac",
   "metadata": {},
   "outputs": [
    {
     "name": "stdout",
     "output_type": "stream",
     "text": [
      "1596/1596 [==============================] - 2s 1ms/step\n"
     ]
    }
   ],
   "source": [
    "#We will be making predictions at a threshold of 0.5\n",
    "y_pred_prob = model.predict(X_test)\n",
    "y_pred_class = (y_pred_prob > 0.5).astype(\"int32\") \n"
   ]
  },
  {
   "cell_type": "code",
   "execution_count": 15,
   "id": "20639161",
   "metadata": {},
   "outputs": [
    {
     "name": "stdout",
     "output_type": "stream",
     "text": [
      "AUC-ROC Score: 0.5\n",
      "Classification Report:\n",
      "               precision    recall  f1-score   support\n",
      "\n",
      "           0       0.88      1.00      0.94     45167\n",
      "           1       0.00      0.00      0.00      5903\n",
      "\n",
      "    accuracy                           0.88     51070\n",
      "   macro avg       0.44      0.50      0.47     51070\n",
      "weighted avg       0.78      0.88      0.83     51070\n",
      "\n",
      "Confusion Matrix:\n",
      " [[45167     0]\n",
      " [ 5903     0]]\n"
     ]
    },
    {
     "name": "stderr",
     "output_type": "stream",
     "text": [
      "C:\\Users\\darde\\anaconda3\\Lib\\site-packages\\sklearn\\metrics\\_classification.py:1344: UndefinedMetricWarning: Precision and F-score are ill-defined and being set to 0.0 in labels with no predicted samples. Use `zero_division` parameter to control this behavior.\n",
      "  _warn_prf(average, modifier, msg_start, len(result))\n",
      "C:\\Users\\darde\\anaconda3\\Lib\\site-packages\\sklearn\\metrics\\_classification.py:1344: UndefinedMetricWarning: Precision and F-score are ill-defined and being set to 0.0 in labels with no predicted samples. Use `zero_division` parameter to control this behavior.\n",
      "  _warn_prf(average, modifier, msg_start, len(result))\n",
      "C:\\Users\\darde\\anaconda3\\Lib\\site-packages\\sklearn\\metrics\\_classification.py:1344: UndefinedMetricWarning: Precision and F-score are ill-defined and being set to 0.0 in labels with no predicted samples. Use `zero_division` parameter to control this behavior.\n",
      "  _warn_prf(average, modifier, msg_start, len(result))\n"
     ]
    }
   ],
   "source": [
    "auc = roc_auc_score(y_test, y_pred_prob)\n",
    "print(f\"AUC-ROC Score: {auc}\")\n",
    "\n",
    "print(\"Classification Report:\\n\", classification_report(y_test, y_pred_class))\n",
    "\n",
    "print(\"Confusion Matrix:\\n\", confusion_matrix(y_test, y_pred_class))"
   ]
  },
  {
   "cell_type": "markdown",
   "id": "292fe8a4",
   "metadata": {},
   "source": [
    "Seems like we are having the same issue. AUC-ROC of 0.5 means that it's not able to differentiate between the two classes. There is definitely a class imbalance and it is leading the model to predict the majority class. \n",
    "\n",
    "So we will try this with a lower threshold. "
   ]
  },
  {
   "cell_type": "code",
   "execution_count": 16,
   "id": "213db53c",
   "metadata": {},
   "outputs": [],
   "source": [
    "#Threshold of 0.4\n",
    "y_pred_class = (y_pred_prob > 0.4).astype(\"int32\")"
   ]
  },
  {
   "cell_type": "code",
   "execution_count": 17,
   "id": "9bb5274d",
   "metadata": {},
   "outputs": [
    {
     "name": "stdout",
     "output_type": "stream",
     "text": [
      "AUC-ROC Score: 0.5\n",
      "Classification Report:\n",
      "               precision    recall  f1-score   support\n",
      "\n",
      "           0       0.88      1.00      0.94     45167\n",
      "           1       0.00      0.00      0.00      5903\n",
      "\n",
      "    accuracy                           0.88     51070\n",
      "   macro avg       0.44      0.50      0.47     51070\n",
      "weighted avg       0.78      0.88      0.83     51070\n",
      "\n",
      "Confusion Matrix:\n",
      " [[45167     0]\n",
      " [ 5903     0]]\n"
     ]
    },
    {
     "name": "stderr",
     "output_type": "stream",
     "text": [
      "C:\\Users\\darde\\anaconda3\\Lib\\site-packages\\sklearn\\metrics\\_classification.py:1344: UndefinedMetricWarning: Precision and F-score are ill-defined and being set to 0.0 in labels with no predicted samples. Use `zero_division` parameter to control this behavior.\n",
      "  _warn_prf(average, modifier, msg_start, len(result))\n",
      "C:\\Users\\darde\\anaconda3\\Lib\\site-packages\\sklearn\\metrics\\_classification.py:1344: UndefinedMetricWarning: Precision and F-score are ill-defined and being set to 0.0 in labels with no predicted samples. Use `zero_division` parameter to control this behavior.\n",
      "  _warn_prf(average, modifier, msg_start, len(result))\n",
      "C:\\Users\\darde\\anaconda3\\Lib\\site-packages\\sklearn\\metrics\\_classification.py:1344: UndefinedMetricWarning: Precision and F-score are ill-defined and being set to 0.0 in labels with no predicted samples. Use `zero_division` parameter to control this behavior.\n",
      "  _warn_prf(average, modifier, msg_start, len(result))\n"
     ]
    }
   ],
   "source": [
    "auc = roc_auc_score(y_test, y_pred_prob)\n",
    "print(f\"AUC-ROC Score: {auc}\")\n",
    "\n",
    "print(\"Classification Report:\\n\", classification_report(y_test, y_pred_class))\n",
    "\n",
    "print(\"Confusion Matrix:\\n\", confusion_matrix(y_test, y_pred_class))"
   ]
  },
  {
   "cell_type": "code",
   "execution_count": 18,
   "id": "761adf77",
   "metadata": {},
   "outputs": [],
   "source": [
    "#Threshold of 0.3\n",
    "y_pred_class = (y_pred_prob > 0.3).astype(\"int32\")"
   ]
  },
  {
   "cell_type": "code",
   "execution_count": 19,
   "id": "0b920ba1",
   "metadata": {},
   "outputs": [
    {
     "name": "stdout",
     "output_type": "stream",
     "text": [
      "AUC-ROC Score: 0.5\n",
      "Classification Report:\n",
      "               precision    recall  f1-score   support\n",
      "\n",
      "           0       0.00      0.00      0.00     45167\n",
      "           1       0.12      1.00      0.21      5903\n",
      "\n",
      "    accuracy                           0.12     51070\n",
      "   macro avg       0.06      0.50      0.10     51070\n",
      "weighted avg       0.01      0.12      0.02     51070\n",
      "\n",
      "Confusion Matrix:\n",
      " [[    0 45167]\n",
      " [    0  5903]]\n"
     ]
    },
    {
     "name": "stderr",
     "output_type": "stream",
     "text": [
      "C:\\Users\\darde\\anaconda3\\Lib\\site-packages\\sklearn\\metrics\\_classification.py:1344: UndefinedMetricWarning: Precision and F-score are ill-defined and being set to 0.0 in labels with no predicted samples. Use `zero_division` parameter to control this behavior.\n",
      "  _warn_prf(average, modifier, msg_start, len(result))\n",
      "C:\\Users\\darde\\anaconda3\\Lib\\site-packages\\sklearn\\metrics\\_classification.py:1344: UndefinedMetricWarning: Precision and F-score are ill-defined and being set to 0.0 in labels with no predicted samples. Use `zero_division` parameter to control this behavior.\n",
      "  _warn_prf(average, modifier, msg_start, len(result))\n",
      "C:\\Users\\darde\\anaconda3\\Lib\\site-packages\\sklearn\\metrics\\_classification.py:1344: UndefinedMetricWarning: Precision and F-score are ill-defined and being set to 0.0 in labels with no predicted samples. Use `zero_division` parameter to control this behavior.\n",
      "  _warn_prf(average, modifier, msg_start, len(result))\n"
     ]
    }
   ],
   "source": [
    "auc = roc_auc_score(y_test, y_pred_prob)\n",
    "print(f\"AUC-ROC Score: {auc}\")\n",
    "\n",
    "print(\"Classification Report:\\n\", classification_report(y_test, y_pred_class))\n",
    "\n",
    "print(\"Confusion Matrix:\\n\", confusion_matrix(y_test, y_pred_class))"
   ]
  },
  {
   "cell_type": "markdown",
   "id": "ac4948c8",
   "metadata": {},
   "source": [
    "### Fine-tune SMOTE\n",
    "\n",
    "We are going to try to Fine-tune SMOTE to avoid overcompensating for the minority class."
   ]
  },
  {
   "cell_type": "code",
   "execution_count": 20,
   "id": "a302d1e9",
   "metadata": {},
   "outputs": [
    {
     "name": "stdout",
     "output_type": "stream",
     "text": [
      "Epoch 1/10\n",
      "6770/6770 [==============================] - 15s 2ms/step - loss: 0.4517 - accuracy: 0.8333 - val_loss: 1.8137 - val_accuracy: 0.0000e+00\n",
      "Epoch 2/10\n",
      "6770/6770 [==============================] - 13s 2ms/step - loss: 0.4506 - accuracy: 0.8333 - val_loss: 1.7881 - val_accuracy: 0.0000e+00\n",
      "Epoch 3/10\n",
      "6770/6770 [==============================] - 13s 2ms/step - loss: 0.4506 - accuracy: 0.8333 - val_loss: 1.7820 - val_accuracy: 0.0000e+00\n",
      "Epoch 4/10\n",
      "6770/6770 [==============================] - 14s 2ms/step - loss: 0.4506 - accuracy: 0.8333 - val_loss: 1.8251 - val_accuracy: 0.0000e+00\n",
      "Epoch 5/10\n",
      "6770/6770 [==============================] - 13s 2ms/step - loss: 0.4506 - accuracy: 0.8333 - val_loss: 1.7638 - val_accuracy: 0.0000e+00\n",
      "Epoch 6/10\n",
      "6770/6770 [==============================] - 14s 2ms/step - loss: 0.4506 - accuracy: 0.8333 - val_loss: 1.8401 - val_accuracy: 0.0000e+00\n",
      "Epoch 7/10\n",
      "6770/6770 [==============================] - 14s 2ms/step - loss: 0.4506 - accuracy: 0.8333 - val_loss: 1.7990 - val_accuracy: 0.0000e+00\n",
      "Epoch 8/10\n",
      "6770/6770 [==============================] - 13s 2ms/step - loss: 0.4506 - accuracy: 0.8333 - val_loss: 1.8021 - val_accuracy: 0.0000e+00\n",
      "Epoch 9/10\n",
      "6770/6770 [==============================] - 13s 2ms/step - loss: 0.4506 - accuracy: 0.8333 - val_loss: 1.8207 - val_accuracy: 0.0000e+00\n",
      "Epoch 10/10\n",
      "6770/6770 [==============================] - 13s 2ms/step - loss: 0.4506 - accuracy: 0.8333 - val_loss: 1.8225 - val_accuracy: 0.0000e+00\n"
     ]
    }
   ],
   "source": [
    "smote = SMOTE(sampling_strategy=0.5, random_state=42)\n",
    "X_train_resampled, y_train_resampled = smote.fit_resample(X_train, y_train)\n",
    "history = model.fit(X_train_resampled, y_train_resampled, validation_split=0.2, epochs=10, batch_size=32)\n"
   ]
  },
  {
   "cell_type": "code",
   "execution_count": 21,
   "id": "7fa14e38",
   "metadata": {},
   "outputs": [
    {
     "name": "stdout",
     "output_type": "stream",
     "text": [
      "1596/1596 [==============================] - 2s 1ms/step\n"
     ]
    }
   ],
   "source": [
    "y_pred_prob = model.predict(X_test)\n",
    "y_pred_class = (y_pred_prob > 0.5).astype(\"int32\")"
   ]
  },
  {
   "cell_type": "code",
   "execution_count": 22,
   "id": "0b30b34a",
   "metadata": {},
   "outputs": [
    {
     "name": "stdout",
     "output_type": "stream",
     "text": [
      "AUC-ROC Score: 0.5\n",
      "Classification Report:\n",
      "               precision    recall  f1-score   support\n",
      "\n",
      "           0       0.88      1.00      0.94     45167\n",
      "           1       0.00      0.00      0.00      5903\n",
      "\n",
      "    accuracy                           0.88     51070\n",
      "   macro avg       0.44      0.50      0.47     51070\n",
      "weighted avg       0.78      0.88      0.83     51070\n",
      "\n",
      "Confusion Matrix:\n",
      " [[45167     0]\n",
      " [ 5903     0]]\n"
     ]
    },
    {
     "name": "stderr",
     "output_type": "stream",
     "text": [
      "C:\\Users\\darde\\anaconda3\\Lib\\site-packages\\sklearn\\metrics\\_classification.py:1344: UndefinedMetricWarning: Precision and F-score are ill-defined and being set to 0.0 in labels with no predicted samples. Use `zero_division` parameter to control this behavior.\n",
      "  _warn_prf(average, modifier, msg_start, len(result))\n",
      "C:\\Users\\darde\\anaconda3\\Lib\\site-packages\\sklearn\\metrics\\_classification.py:1344: UndefinedMetricWarning: Precision and F-score are ill-defined and being set to 0.0 in labels with no predicted samples. Use `zero_division` parameter to control this behavior.\n",
      "  _warn_prf(average, modifier, msg_start, len(result))\n",
      "C:\\Users\\darde\\anaconda3\\Lib\\site-packages\\sklearn\\metrics\\_classification.py:1344: UndefinedMetricWarning: Precision and F-score are ill-defined and being set to 0.0 in labels with no predicted samples. Use `zero_division` parameter to control this behavior.\n",
      "  _warn_prf(average, modifier, msg_start, len(result))\n"
     ]
    }
   ],
   "source": [
    "auc = roc_auc_score(y_test, y_pred_prob)\n",
    "print(f\"AUC-ROC Score: {auc}\")\n",
    "print(\"Classification Report:\\n\", classification_report(y_test, y_pred_class))\n",
    "print(\"Confusion Matrix:\\n\", confusion_matrix(y_test, y_pred_class))"
   ]
  },
  {
   "cell_type": "markdown",
   "id": "f93608f7",
   "metadata": {},
   "source": [
    "### Final observation before moving on to Pytorch. \n",
    "\n",
    "##### Keras: \n",
    "Despite using SMOTE, the severe imbalance in the dataset is still affecting the model's ability to learn meaningful patterns for the minority class. It’s possible that the features in the dataset are not providing enough signal for the model to differentiate between defaults and non-defaults.\n",
    "\n",
    "We can look into feature engineering, before doing that we will compare existing model dataset with Pytorch model. "
   ]
  },
  {
   "cell_type": "markdown",
   "id": "4c88d1c6",
   "metadata": {},
   "source": [
    "## Pytorch \n",
    "\n",
    "Pytorch does provide a bit more flexibility and control over the training process. This may help with handling class imbalance and improving model performance. \n",
    "\n",
    "We'll build a simple feedforward neural network (similar to Keras). Then add class weights to the loss function to balance the influence of the minority class."
   ]
  },
  {
   "cell_type": "code",
   "execution_count": 23,
   "id": "511f6c40",
   "metadata": {},
   "outputs": [],
   "source": [
    "import torch\n",
    "import torch.nn as nn\n",
    "import torch.optim as optim"
   ]
  },
  {
   "cell_type": "markdown",
   "id": "a1a41d10",
   "metadata": {},
   "source": [
    "#### Define Model Architecture\n",
    "\n",
    "We'll have 3 hidden layers with ReLU activation and a Sigmoid activation function (output) for binary classification."
   ]
  },
  {
   "cell_type": "code",
   "execution_count": 24,
   "id": "40f0a26e",
   "metadata": {},
   "outputs": [],
   "source": [
    "class LoanDefaultNN(nn.Module):\n",
    "    def __init__(self):\n",
    "        super(LoanDefaultNN, self).__init__()\n",
    "        self.fc1 = nn.Linear(X_train.shape[1], 64)\n",
    "        self.fc2 = nn.Linear(64, 32)\n",
    "        self.fc3 = nn.Linear(32, 16)\n",
    "        self.fc4 = nn.Linear(16, 1)\n",
    "    \n",
    "    def forward(self, x):\n",
    "        x = torch.relu(self.fc1(x))\n",
    "        x = torch.relu(self.fc2(x))\n",
    "        x = torch.relu(self.fc3(x))\n",
    "        x = torch.sigmoid(self.fc4(x))  \n",
    "        return x"
   ]
  },
  {
   "cell_type": "markdown",
   "id": "fc893cc4",
   "metadata": {},
   "source": [
    "#### Initialize the model, loss function and and optimizer\n",
    "Since this is a binary classification problem, we use BCELoss as the loss function\n",
    "Adam optimizer with a learning rate of 0.001 for gradient-based optimization"
   ]
  },
  {
   "cell_type": "code",
   "execution_count": 25,
   "id": "b56e543c",
   "metadata": {},
   "outputs": [],
   "source": [
    "model = LoanDefaultNN()\n",
    "criterion = nn.BCELoss() \n",
    "optimizer = optim.Adam(model.parameters(), lr=0.001)"
   ]
  },
  {
   "cell_type": "markdown",
   "id": "62a90ecf",
   "metadata": {},
   "source": [
    "#### Training\n",
    " The model is trained over 10 epochs, with backpropagation and optimization happening in each epoch"
   ]
  },
  {
   "cell_type": "code",
   "execution_count": 26,
   "id": "ad377539",
   "metadata": {},
   "outputs": [
    {
     "name": "stdout",
     "output_type": "stream",
     "text": [
      "Epoch 1/10, Loss: 88.37362670898438\n",
      "Epoch 2/10, Loss: 88.37362670898438\n",
      "Epoch 3/10, Loss: 88.37362670898438\n",
      "Epoch 4/10, Loss: 88.37362670898438\n",
      "Epoch 5/10, Loss: 88.37362670898438\n",
      "Epoch 6/10, Loss: 88.37362670898438\n",
      "Epoch 7/10, Loss: 88.37362670898438\n",
      "Epoch 8/10, Loss: 88.37362670898438\n",
      "Epoch 9/10, Loss: 88.37362670898438\n",
      "Epoch 10/10, Loss: 88.37362670898438\n"
     ]
    }
   ],
   "source": [
    "X_train_tensor = torch.tensor(X_train.values, dtype=torch.float32)\n",
    "y_train_tensor = torch.tensor(y_train.values, dtype=torch.float32).view(-1, 1)\n",
    "\n",
    "X_test_tensor = torch.tensor(X_test.values, dtype=torch.float32)\n",
    "y_test_tensor = torch.tensor(y_test.values, dtype=torch.float32).view(-1, 1)\n",
    "\n",
    "epochs = 10\n",
    "for epoch in range(epochs):\n",
    "    model.train()\n",
    "    optimizer.zero_grad()\n",
    "\n",
    "    outputs = model(X_train_tensor)\n",
    "    loss = criterion(outputs, y_train_tensor)\n",
    "    \n",
    "    loss.backward()\n",
    "    optimizer.step()\n",
    "\n",
    "    print(f'Epoch {epoch+1}/{epochs}, Loss: {loss.item()}')"
   ]
  },
  {
   "cell_type": "markdown",
   "id": "721fa80c",
   "metadata": {},
   "source": [
    "#### Predictions\n",
    "We will first make predictions on the test set and Convert probabilities to binary predictions using a threshold."
   ]
  },
  {
   "cell_type": "code",
   "execution_count": 27,
   "id": "76a0170d",
   "metadata": {},
   "outputs": [],
   "source": [
    "model.eval()\n",
    "with torch.no_grad():\n",
    "    y_pred_prob = model(X_test_tensor).numpy()"
   ]
  },
  {
   "cell_type": "code",
   "execution_count": 28,
   "id": "90d5a919",
   "metadata": {},
   "outputs": [],
   "source": [
    "y_pred_class = (y_pred_prob > 0.5).astype(int)"
   ]
  },
  {
   "cell_type": "markdown",
   "id": "6d571358",
   "metadata": {},
   "source": [
    "#### Evaulate the model performance"
   ]
  },
  {
   "cell_type": "code",
   "execution_count": 29,
   "id": "decc405e",
   "metadata": {},
   "outputs": [
    {
     "name": "stdout",
     "output_type": "stream",
     "text": [
      "AUC-ROC Score: 0.5\n",
      "Classification Report:\n",
      "               precision    recall  f1-score   support\n",
      "\n",
      "           0       0.00      0.00      0.00     45167\n",
      "           1       0.12      1.00      0.21      5903\n",
      "\n",
      "    accuracy                           0.12     51070\n",
      "   macro avg       0.06      0.50      0.10     51070\n",
      "weighted avg       0.01      0.12      0.02     51070\n",
      "\n",
      "Confusion Matrix:\n",
      " [[    0 45167]\n",
      " [    0  5903]]\n"
     ]
    },
    {
     "name": "stderr",
     "output_type": "stream",
     "text": [
      "C:\\Users\\darde\\anaconda3\\Lib\\site-packages\\sklearn\\metrics\\_classification.py:1344: UndefinedMetricWarning: Precision and F-score are ill-defined and being set to 0.0 in labels with no predicted samples. Use `zero_division` parameter to control this behavior.\n",
      "  _warn_prf(average, modifier, msg_start, len(result))\n",
      "C:\\Users\\darde\\anaconda3\\Lib\\site-packages\\sklearn\\metrics\\_classification.py:1344: UndefinedMetricWarning: Precision and F-score are ill-defined and being set to 0.0 in labels with no predicted samples. Use `zero_division` parameter to control this behavior.\n",
      "  _warn_prf(average, modifier, msg_start, len(result))\n",
      "C:\\Users\\darde\\anaconda3\\Lib\\site-packages\\sklearn\\metrics\\_classification.py:1344: UndefinedMetricWarning: Precision and F-score are ill-defined and being set to 0.0 in labels with no predicted samples. Use `zero_division` parameter to control this behavior.\n",
      "  _warn_prf(average, modifier, msg_start, len(result))\n"
     ]
    }
   ],
   "source": [
    "auc = roc_auc_score(y_test, y_pred_prob)\n",
    "print(f\"AUC-ROC Score: {auc}\")\n",
    "\n",
    "print(\"Classification Report:\\n\", classification_report(y_test, y_pred_class))\n",
    "\n",
    "print(\"Confusion Matrix:\\n\", confusion_matrix(y_test, y_pred_class))"
   ]
  },
  {
   "cell_type": "markdown",
   "id": "685cdaeb",
   "metadata": {},
   "source": [
    "It seems the PyTorch model is exhibiting a similar issue as before: predicting everything as class 1 (defaults), leading to poor overall performance.\n",
    "\n",
    "AUC-ROC Score: 0.5: This score indicates that the model is performing no better than random guessing.\n",
    "Recall for Class 1 is high (1.00), but precision is extremely low (0.12), meaning the model is predicting nearly every sample as class 1\n"
   ]
  },
  {
   "cell_type": "markdown",
   "id": "529dc30e",
   "metadata": {},
   "source": [
    "#### Next Setup\n",
    "\n",
    "We will try to add class weights to the loss function in PyTorch and model again.\n",
    "\n",
    "Note:  class_counts.sum() / (2 * class_counts)  this step is normalizing the class weights"
   ]
  },
  {
   "cell_type": "code",
   "execution_count": 30,
   "id": "4f413dee",
   "metadata": {},
   "outputs": [],
   "source": [
    "class_counts = torch.tensor([len(y_train[y_train == 0]), len(y_train[y_train == 1])], dtype=torch.float32)\n",
    "class_weights = class_counts.sum() / (2 * class_counts)\n",
    "\n",
    "#This is so we can convert the cass weights to a tensor\n",
    "class_weights_tensor = torch.tensor([class_weights[0], class_weights[1]], dtype=torch.float32)\n"
   ]
  },
  {
   "cell_type": "code",
   "execution_count": 31,
   "id": "bd8306a2",
   "metadata": {},
   "outputs": [],
   "source": [
    "class LoanDefaultNN(nn.Module):\n",
    "    def __init__(self):\n",
    "        super(LoanDefaultNN, self).__init__()\n",
    "        self.fc1 = nn.Linear(X_train.shape[1], 64)\n",
    "        self.fc2 = nn.Linear(64, 32)\n",
    "        self.fc3 = nn.Linear(32, 16)\n",
    "        self.fc4 = nn.Linear(16, 1)\n",
    "    \n",
    "    def forward(self, x):\n",
    "        x = torch.relu(self.fc1(x))\n",
    "        x = torch.relu(self.fc2(x))\n",
    "        x = torch.relu(self.fc3(x))\n",
    "        x = torch.sigmoid(self.fc4(x))\n",
    "        return x\n",
    "\n",
    "model = LoanDefaultNN()\n",
    "\n",
    "\n",
    "criterion = nn.BCEWithLogitsLoss(pos_weight=class_weights_tensor[1])\n",
    "\n",
    "optimizer = optim.Adam(model.parameters(), lr=0.001)"
   ]
  },
  {
   "cell_type": "code",
   "execution_count": 32,
   "id": "33edf743",
   "metadata": {},
   "outputs": [
    {
     "name": "stdout",
     "output_type": "stream",
     "text": [
      "Epoch 1/10, Loss: 1.3172080516815186\n",
      "Epoch 2/10, Loss: 1.3172080516815186\n",
      "Epoch 3/10, Loss: 1.3172080516815186\n",
      "Epoch 4/10, Loss: 1.3172080516815186\n",
      "Epoch 5/10, Loss: 1.3172080516815186\n",
      "Epoch 6/10, Loss: 1.3172080516815186\n",
      "Epoch 7/10, Loss: 1.3172080516815186\n",
      "Epoch 8/10, Loss: 1.3172080516815186\n",
      "Epoch 9/10, Loss: 1.3172080516815186\n",
      "Epoch 10/10, Loss: 1.3172080516815186\n"
     ]
    }
   ],
   "source": [
    "X_train_tensor = torch.tensor(X_train.values, dtype=torch.float32)\n",
    "y_train_tensor = torch.tensor(y_train.values, dtype=torch.float32).view(-1, 1)\n",
    "\n",
    "X_test_tensor = torch.tensor(X_test.values, dtype=torch.float32)\n",
    "y_test_tensor = torch.tensor(y_test.values, dtype=torch.float32).view(-1, 1)\n",
    "\n",
    "epochs = 10\n",
    "for epoch in range(epochs):\n",
    "    model.train()\n",
    "    optimizer.zero_grad()\n",
    "\n",
    "    outputs = model(X_train_tensor)\n",
    "    loss = criterion(outputs, y_train_tensor)\n",
    "    \n",
    "    loss.backward()\n",
    "    optimizer.step()\n",
    "\n",
    "    print(f'Epoch {epoch+1}/{epochs}, Loss: {loss.item()}')\n"
   ]
  },
  {
   "cell_type": "code",
   "execution_count": 35,
   "id": "5d12021e",
   "metadata": {},
   "outputs": [],
   "source": [
    "# Test set Prediction \n",
    "model.eval()\n",
    "with torch.no_grad():\n",
    "    y_pred_prob = torch.sigmoid(model(X_test_tensor)).numpy()\n",
    "\n",
    "y_pred_class = (y_pred_prob > 0.5).astype(int)"
   ]
  },
  {
   "cell_type": "code",
   "execution_count": 36,
   "id": "bcdf84dc",
   "metadata": {},
   "outputs": [
    {
     "name": "stdout",
     "output_type": "stream",
     "text": [
      "AUC-ROC Score: 0.5\n",
      "Classification Report:\n",
      "               precision    recall  f1-score   support\n",
      "\n",
      "           0       0.00      0.00      0.00     45167\n",
      "           1       0.12      1.00      0.21      5903\n",
      "\n",
      "    accuracy                           0.12     51070\n",
      "   macro avg       0.06      0.50      0.10     51070\n",
      "weighted avg       0.01      0.12      0.02     51070\n",
      "\n",
      "Confusion Matrix:\n",
      " [[    0 45167]\n",
      " [    0  5903]]\n"
     ]
    },
    {
     "name": "stderr",
     "output_type": "stream",
     "text": [
      "C:\\Users\\darde\\anaconda3\\Lib\\site-packages\\sklearn\\metrics\\_classification.py:1344: UndefinedMetricWarning: Precision and F-score are ill-defined and being set to 0.0 in labels with no predicted samples. Use `zero_division` parameter to control this behavior.\n",
      "  _warn_prf(average, modifier, msg_start, len(result))\n",
      "C:\\Users\\darde\\anaconda3\\Lib\\site-packages\\sklearn\\metrics\\_classification.py:1344: UndefinedMetricWarning: Precision and F-score are ill-defined and being set to 0.0 in labels with no predicted samples. Use `zero_division` parameter to control this behavior.\n",
      "  _warn_prf(average, modifier, msg_start, len(result))\n",
      "C:\\Users\\darde\\anaconda3\\Lib\\site-packages\\sklearn\\metrics\\_classification.py:1344: UndefinedMetricWarning: Precision and F-score are ill-defined and being set to 0.0 in labels with no predicted samples. Use `zero_division` parameter to control this behavior.\n",
      "  _warn_prf(average, modifier, msg_start, len(result))\n"
     ]
    }
   ],
   "source": [
    "auc = roc_auc_score(y_test, y_pred_prob)\n",
    "print(f\"AUC-ROC Score: {auc}\")\n",
    "\n",
    "print(\"Classification Report:\\n\", classification_report(y_test, y_pred_class))\n",
    "\n",
    "print(\"Confusion Matrix:\\n\", confusion_matrix(y_test, y_pred_class))"
   ]
  },
  {
   "cell_type": "markdown",
   "id": "7e4ac020",
   "metadata": {},
   "source": [
    "## Observation\n",
    "At this point, it’s clear that this approach with PyTorch and class weights isn’t working. The model still predicts all instances as class 1 (defaults), and the AUC-ROC score is again 0.5, indicating no improvement in distinguishing between defaults and non-defaults.\n",
    "\n",
    "## Next step\n",
    "We will take a step back and visit Feature Engineering. We will open a new notebook for feature engineering where we will look into possibly creating new features, transform skewed feature, etc. "
   ]
  },
  {
   "cell_type": "code",
   "execution_count": null,
   "id": "034dde66",
   "metadata": {},
   "outputs": [],
   "source": []
  }
 ],
 "metadata": {
  "kernelspec": {
   "display_name": "Python 3 (ipykernel)",
   "language": "python",
   "name": "python3"
  },
  "language_info": {
   "codemirror_mode": {
    "name": "ipython",
    "version": 3
   },
   "file_extension": ".py",
   "mimetype": "text/x-python",
   "name": "python",
   "nbconvert_exporter": "python",
   "pygments_lexer": "ipython3",
   "version": "3.11.5"
  }
 },
 "nbformat": 4,
 "nbformat_minor": 5
}
